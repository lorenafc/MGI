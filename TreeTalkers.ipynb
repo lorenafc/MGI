{
  "nbformat": 4,
  "nbformat_minor": 0,
  "metadata": {
    "colab": {
      "provenance": [],
      "authorship_tag": "ABX9TyNvNCN/7Nz5Uu/bnyJhBReJ",
      "include_colab_link": true
    },
    "kernelspec": {
      "name": "python3",
      "display_name": "Python 3"
    },
    "language_info": {
      "name": "python"
    }
  },
  "cells": [
    {
      "cell_type": "markdown",
      "metadata": {
        "id": "view-in-github",
        "colab_type": "text"
      },
      "source": [
        "<a href=\"https://colab.research.google.com/github/lorenafc/MGI/blob/main/TreeTalkers.ipynb\" target=\"_parent\"><img src=\"https://colab.research.google.com/assets/colab-badge.svg\" alt=\"Open In Colab\"/></a>"
      ]
    },
    {
      "cell_type": "code",
      "execution_count": 1,
      "metadata": {
        "id": "kmTQHiq5Ptdd"
      },
      "outputs": [],
      "source": [
        "import pandas as pd"
      ]
    },
    {
      "cell_type": "code",
      "source": [
        "# Aqui montamos o acesso ao nosso Google drive, assim podemos salvar e acessar dados diretamente de lá\n",
        "from google.colab import drive\n",
        "\n",
        "drive.mount(\"/content/drive\", force_remount=True)"
      ],
      "metadata": {
        "colab": {
          "base_uri": "https://localhost:8080/"
        },
        "id": "ge7DnlUbgtEo",
        "outputId": "30c7d7e0-1b6b-445b-e99c-13e31ec626e9"
      },
      "execution_count": 2,
      "outputs": [
        {
          "output_type": "stream",
          "name": "stdout",
          "text": [
            "Mounted at /content/drive\n"
          ]
        }
      ]
    },
    {
      "cell_type": "code",
      "source": [
        "# Indique o caminho do shapefile que vamos ler. Esse deve ser o caminho dele no seu google drive.\n",
        "txt = \"/content/drive/MyDrive/IDHV/TTS_Data.txt\"\n",
        "#Leia o shapefile\n",
        "tts_data = pd.read_csv(txt, sep=\",\", header=None)\n",
        "# Verifique o tipo da variável em que lemos o shapefile\n",
        "print(tts_data.head())"
      ],
      "metadata": {
        "id": "nQBv4v2an7kX",
        "colab": {
          "base_uri": "https://localhost:8080/"
        },
        "outputId": "399a7fbf-7646-4120-f5f8-0b69449ae654"
      },
      "execution_count": 10,
      "outputs": [
        {
          "output_type": "stream",
          "name": "stdout",
          "text": [
            "                   0                                                  1\n",
            "0  16.08.21 14:13:08  C0210018;1;4B;1629115200;0;0;204;16;1;15;4220;...\n",
            "1  16.08.21 15:00:28  C0210018;1;4B;1629118800;0;0;204;16;1;17;4214;...\n",
            "2  16.08.21 15:00:44  C0210018;2;4C;1629118800;0;0;-37;-44;0;0;0;0;0...\n",
            "3  16.08.21 16:00:28  C0210018;3;4B;1629122400;2;0;204;16;1;19;4206;...\n",
            "4  16.08.21 16:00:45  C0210018;4;4C;1629122400;0;0;-37;-52;0;0;0;0;0...\n"
          ]
        }
      ]
    },
    {
      "cell_type": "code",
      "source": [
        "# Function to replace semicolons with commas in each cell of the DataFrame\n",
        "def replace_semicolons(tts_data):\n",
        "    for col in tts_data.columns[:]:  # Skip the first two columns\n",
        "        tts_data[col] = tts_data[col].str.replace(';', ',')\n",
        "    return tts_data\n",
        "\n",
        "# Apply the function to the DataFrame\n",
        "tts_data = replace_semicolons(tts_data)\n",
        "\n",
        "# Save the modified DataFrame to a new CSV file\n",
        "tts_data_colons = 'tts_data_colons.csv'\n",
        "tts_data.to_csv(tts_data_colons, index=False)\n",
        "\n",
        "# Display the modified DataFrame\n",
        "print(tts_data.head())\n"
      ],
      "metadata": {
        "colab": {
          "base_uri": "https://localhost:8080/"
        },
        "id": "PBJqI-_GWjJJ",
        "outputId": "3cca20f4-5585-49c8-91ff-36f18245324d"
      },
      "execution_count": 20,
      "outputs": [
        {
          "output_type": "stream",
          "name": "stdout",
          "text": [
            "                   0                                                  1\n",
            "0  16.08.21 14:13:08  C0210018,1,4B,1629115200,0,0,204,16,1,15,4220,...\n",
            "1  16.08.21 15:00:28  C0210018,1,4B,1629118800,0,0,204,16,1,17,4214,...\n",
            "2  16.08.21 15:00:44  C0210018,2,4C,1629118800,0,0,-37,-44,0,0,0,0,0...\n",
            "3  16.08.21 16:00:28  C0210018,3,4B,1629122400,2,0,204,16,1,19,4206,...\n",
            "4  16.08.21 16:00:45  C0210018,4,4C,1629122400,0,0,-37,-52,0,0,0,0,0...\n"
          ]
        }
      ]
    }
  ]
}